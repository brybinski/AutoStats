{
 "cells": [
  {
   "cell_type": "code",
   "execution_count": 8,
   "outputs": [
    {
     "name": "stdout",
     "output_type": "stream",
     "text": [
      "{'imie': 'nominal', 'Nazwisko': 'nominal', 'Grupa': 'ordinal', 'data': 'scale', 'skala_1': 'scale', 'skala_2': 'scale', 'razem': 'scale', 'post_skala_1': 'scale', 'post_skala_2': 'scale', 'post_razem': 'scale'}\n"
     ]
    }
   ],
   "source": [
    "import pandas as pd\n",
    "import json\n",
    "import numpy as np\n",
    "import pyreadstat\n",
    "import scipy as sp\n",
    "from typing import *\n",
    "from Variable import Variable\n",
    "from Constants import Constants\n",
    "\n",
    "\n",
    "class VarSet:\n",
    "    va_list: Dict[str, Variable]\n",
    "    name: str\n",
    "\n",
    "    def __init__(self, df, name=None):\n",
    "        if name is None:\n",
    "            self.name = \"VAR\"+str(Constants.varcounter)\n",
    "            Constants.varcounter += 1\n",
    "        else:\n",
    "            self.name = name\n",
    "\n",
    "\n",
    "path = 'D:\\\\pythonProject1\\\\kns.sav'\n",
    "df, meta = pyreadstat.read_sav(path, apply_value_formats=False)\n",
    "print(meta.__dict__[\"variable_measure\"])"
   ],
   "metadata": {
    "collapsed": false,
    "pycharm": {
     "name": "#%%\n"
    }
   }
  },
  {
   "cell_type": "code",
   "execution_count": null,
   "outputs": [],
   "source": [],
   "metadata": {
    "collapsed": false,
    "pycharm": {
     "name": "#%%\n"
    }
   }
  }
 ],
 "metadata": {
  "kernelspec": {
   "display_name": "Python 3",
   "language": "python",
   "name": "python3"
  },
  "language_info": {
   "codemirror_mode": {
    "name": "ipython",
    "version": 2
   },
   "file_extension": ".py",
   "mimetype": "text/x-python",
   "name": "python",
   "nbconvert_exporter": "python",
   "pygments_lexer": "ipython2",
   "version": "2.7.6"
  }
 },
 "nbformat": 4,
 "nbformat_minor": 0
}